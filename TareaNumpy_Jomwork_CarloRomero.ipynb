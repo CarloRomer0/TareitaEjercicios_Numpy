{
  "nbformat": 4,
  "nbformat_minor": 0,
  "metadata": {
    "colab": {
      "provenance": [],
      "include_colab_link": true
    },
    "kernelspec": {
      "name": "python3",
      "display_name": "Python 3"
    },
    "language_info": {
      "name": "python"
    }
  },
  "cells": [
    {
      "cell_type": "markdown",
      "metadata": {
        "id": "view-in-github",
        "colab_type": "text"
      },
      "source": [
        "<a href=\"https://colab.research.google.com/github/CarloRomer0/TareitaEjercicios_Numpy/blob/main/TareaNumpy_Jomwork_CarloRomero.ipynb\" target=\"_parent\"><img src=\"https://colab.research.google.com/assets/colab-badge.svg\" alt=\"Open In Colab\"/></a>"
      ]
    },
    {
      "cell_type": "markdown",
      "source": [
        "# **Tarea de Numpy**\n",
        "\n",
        "Este notebook es el de los ejercicios >:)"
      ],
      "metadata": {
        "id": "AnjfrYcx4MCI"
      }
    },
    {
      "cell_type": "code",
      "source": [
        "!pip install numpy\n",
        "import numpy as np\n",
        "\n",
        "# Probando si si jala el numpy\n",
        "my_arreglow = np.array([1, 2, 3, 4, 5])\n",
        "\n",
        "print(my_arreglow)\n",
        "print(np.mean(my_arreglow))\n"
      ],
      "metadata": {
        "colab": {
          "base_uri": "https://localhost:8080/"
        },
        "id": "qxKzpmVP8Lqs",
        "outputId": "7a48480b-7b6b-4905-a165-57dd0860d3c8"
      },
      "execution_count": null,
      "outputs": [
        {
          "output_type": "stream",
          "name": "stdout",
          "text": [
            "Requirement already satisfied: numpy in /usr/local/lib/python3.11/dist-packages (2.0.2)\n",
            "[1 2 3 4 5]\n",
            "3.0\n"
          ]
        }
      ]
    },
    {
      "cell_type": "markdown",
      "source": [
        "## Ejercicios de refuerzo"
      ],
      "metadata": {
        "id": "5bZxvLcH4Twv"
      }
    },
    {
      "cell_type": "markdown",
      "source": [
        "### **Ejercicio 1 - Crear un array de ceros:**\n",
        "Crea un array de tamaño (3, 4) lleno de ceros."
      ],
      "metadata": {
        "id": "0DKnt0XJ4b0j"
      }
    },
    {
      "cell_type": "code",
      "execution_count": null,
      "metadata": {
        "id": "XpBz8hQx4LD7",
        "colab": {
          "base_uri": "https://localhost:8080/"
        },
        "outputId": "373ac46f-a812-4973-fc1a-bcb0bd2210a4"
      },
      "outputs": [
        {
          "output_type": "stream",
          "name": "stdout",
          "text": [
            "[[0. 0. 0. 0.]\n",
            " [0. 0. 0. 0.]\n",
            " [0. 0. 0. 0.]]\n"
          ]
        }
      ],
      "source": [
        "# Solución (:\n",
        "import numpy as np\n",
        "\n",
        "arrayCeros = np.zeros((3,4))\n",
        "print(arrayCeros)"
      ]
    },
    {
      "cell_type": "markdown",
      "source": [
        "### **Ejercicio 2-  Suma de elementos:**\n",
        "   Dado el array [1, 2, 3, 4, 5], calcula la suma de todos sus elementos usando NumPy."
      ],
      "metadata": {
        "id": "3LhYSK4M91vQ"
      }
    },
    {
      "cell_type": "code",
      "source": [
        "# Solucion :)\n",
        "import numpy as np\n",
        "\n",
        "arrayNum = np.array([1,2,3,4,5])\n",
        "suma = np.sum(arrayNum)\n",
        "print(suma)"
      ],
      "metadata": {
        "id": "l0s1XSEL98xf",
        "colab": {
          "base_uri": "https://localhost:8080/"
        },
        "outputId": "a7b4dff2-79ca-475a-b0d9-c45a20e05dcd"
      },
      "execution_count": null,
      "outputs": [
        {
          "output_type": "stream",
          "name": "stdout",
          "text": [
            "15\n"
          ]
        }
      ]
    },
    {
      "cell_type": "markdown",
      "source": [
        "### **Ejercicio 3 - Encontrar el máximo y mínimo:**\n",
        "Dado el array [10, 20, 30, 40, 50], encuentra el valor máximo y mínimo."
      ],
      "metadata": {
        "id": "u1S6J4AI99Ae"
      }
    },
    {
      "cell_type": "code",
      "source": [
        "array = np.array([10, 20, 30, 40, 50])\n",
        "\n",
        "# Solución:)\n",
        "max=np.max(array)\n",
        "min=np.min(array)\n",
        "\n",
        "print(\"Maximo\", max)\n",
        "print(\"Minimo\", min)"
      ],
      "metadata": {
        "id": "rU0mZk0h-A0R",
        "colab": {
          "base_uri": "https://localhost:8080/"
        },
        "outputId": "e1bee2f7-a894-4ddd-d5b3-082257aec87f"
      },
      "execution_count": null,
      "outputs": [
        {
          "output_type": "stream",
          "name": "stdout",
          "text": [
            "Maximo 50\n",
            "Minimo 10\n"
          ]
        }
      ]
    },
    {
      "cell_type": "markdown",
      "source": [
        "### **Ejercicio 4 - Encontrar el máximo y mínimo:**\n",
        " Dado el array [10, 20, 30, 40, 50], encuentra el valor máximo y mínimo.\n"
      ],
      "metadata": {
        "id": "lACW-PKX-BDd"
      }
    },
    {
      "cell_type": "code",
      "source": [
        "# Solución:)\n",
        "import numpy as np\n",
        "\n",
        "arrayEncontrar= np.array([10,20,30,40,50])\n",
        "\n",
        "max=np.max(arrayEncontrar)\n",
        "min=np.min(arrayEncontrar)\n",
        "\n",
        "print(\"Maximo\", max)\n",
        "print(\"Minimo\", min)"
      ],
      "metadata": {
        "id": "-qHvH7gJ-Ede",
        "colab": {
          "base_uri": "https://localhost:8080/"
        },
        "outputId": "3e6e06fd-c0fb-46ed-acf0-a2523c01b5a0"
      },
      "execution_count": null,
      "outputs": [
        {
          "output_type": "stream",
          "name": "stdout",
          "text": [
            "Maximo 50\n",
            "Minimo 10\n"
          ]
        }
      ]
    },
    {
      "cell_type": "markdown",
      "source": [
        "### **Ejercicio 5 - Generar números aleatorios:**\n",
        "  Genera un array de 5 números aleatorios entre 0 y 1."
      ],
      "metadata": {
        "id": "ZkPxM1Wt-EmM"
      }
    },
    {
      "cell_type": "code",
      "source": [
        "# Solución:)\n",
        "import numpy as np\n",
        "\n",
        "numAleatorios = np.random.rand(5)\n",
        "\n",
        "print(\"Números aleatorios\", numAleatorios)"
      ],
      "metadata": {
        "id": "PBaN-yAp-Hu0",
        "colab": {
          "base_uri": "https://localhost:8080/"
        },
        "outputId": "22000629-e976-42d9-f3b0-703bbbaf3e7c"
      },
      "execution_count": null,
      "outputs": [
        {
          "output_type": "stream",
          "name": "stdout",
          "text": [
            "Números aleatorios [0.79468598 0.66615936 0.93979306 0.08593196 0.9878822 ]\n"
          ]
        }
      ]
    },
    {
      "cell_type": "markdown",
      "source": [
        "### **Ejercicio 6 - Promedio de un array:**\n",
        "Dado el array [5, 10, 15, 20, 25], calcula su promedio usando NumPy."
      ],
      "metadata": {
        "id": "MEDxAgWLAE8Q"
      }
    },
    {
      "cell_type": "code",
      "source": [
        "#Solucion:)\n",
        "import numpy as np\n",
        "\n",
        "arrayPromedio= np.array([5,10,15,20,25])\n",
        "promedio=np.mean(arrayPromedio)\n",
        "\n",
        "print(\"El promedio es\", promedio)"
      ],
      "metadata": {
        "id": "HjnjecKuAOkN",
        "colab": {
          "base_uri": "https://localhost:8080/"
        },
        "outputId": "ddfe0ca5-fbe3-465a-9112-c1d724cc47ff"
      },
      "execution_count": null,
      "outputs": [
        {
          "output_type": "stream",
          "name": "stdout",
          "text": [
            "El promedio es 15.0\n"
          ]
        }
      ]
    },
    {
      "cell_type": "markdown",
      "source": [
        "### **Ejercicio 7 - Concatenar dos arrays**\n",
        "Dados los arrays A = [1, 2, 3] y B = [4, 5, 6], concaténalos en un solo array."
      ],
      "metadata": {
        "id": "Z93kn0htAPZb"
      }
    },
    {
      "cell_type": "code",
      "source": [
        "#Solucion:)\n",
        "import numpy as np\n",
        "\n",
        "A=np.array([1,2,3])\n",
        "B=np.array([4,5,6])\n",
        "\n",
        "unirArrays=np.concatenate((A,B))\n",
        "print(\"Así esta el array unido\", unirArrays)\n"
      ],
      "metadata": {
        "id": "NzldaS9RAS45",
        "colab": {
          "base_uri": "https://localhost:8080/"
        },
        "outputId": "5ecd61c3-fafa-48e0-b103-cd5784b4fc97"
      },
      "execution_count": null,
      "outputs": [
        {
          "output_type": "stream",
          "name": "stdout",
          "text": [
            "Así esta el array unido [1 2 3 4 5 6]\n"
          ]
        }
      ]
    },
    {
      "cell_type": "markdown",
      "source": [
        "### **Ejercicio 8 - Reshape de un Array**\n",
        "Dado el array [1, 2, 3, 4, 5, 6], cámbialo a una matriz de 2x3."
      ],
      "metadata": {
        "id": "bvTCzzFjAevg"
      }
    },
    {
      "cell_type": "code",
      "source": [
        "#Solución:)\n",
        "import numpy as np\n",
        "\n",
        "array=np.array([1,2,3,4,5,6])\n",
        "matriz=array.reshape((2,3))\n",
        "\n",
        "print(\"La matriz 2x3\")\n",
        "print(matriz)"
      ],
      "metadata": {
        "id": "0hfE1QUMAhB3",
        "colab": {
          "base_uri": "https://localhost:8080/"
        },
        "outputId": "88ae21e9-5208-471c-8d82-4c11c59446b0"
      },
      "execution_count": null,
      "outputs": [
        {
          "output_type": "stream",
          "name": "stdout",
          "text": [
            "La matriz 2x3\n",
            "[[1 2 3]\n",
            " [4 5 6]]\n"
          ]
        }
      ]
    },
    {
      "cell_type": "markdown",
      "source": [
        "### **Ejercicio 9 - Producto punto (dot product):**\n",
        "Dados dos arrays A = [1, 2, 3] y B = [4, 5, 6], calcula su producto punto"
      ],
      "metadata": {
        "id": "By9zMuMyYMNA"
      }
    },
    {
      "cell_type": "code",
      "source": [
        "#Solución:)\n",
        "import numpy as np\n",
        "\n",
        "A=np.array([1,2,3])\n",
        "B=np.array([4,5,6])\n",
        "\n",
        "productoPunto=np.dot(A,B)\n",
        "\n",
        "print(\"El producto punto es\", productoPunto)"
      ],
      "metadata": {
        "id": "Vj-94PgAhpmk",
        "colab": {
          "base_uri": "https://localhost:8080/"
        },
        "outputId": "9e7f3a4e-0270-45a1-e514-433c751fde57"
      },
      "execution_count": null,
      "outputs": [
        {
          "output_type": "stream",
          "name": "stdout",
          "text": [
            "El producto punto es 32\n"
          ]
        }
      ]
    },
    {
      "cell_type": "markdown",
      "source": [
        "### **Ejercicio 10 - Reorganizar un array:**\n",
        "Dado el array [1, 2, 3, 4, 5, 6, 7, 8, 9, 10], conviértelo en una matriz (2, 5)."
      ],
      "metadata": {
        "id": "Z0UxB4reh4LU"
      }
    },
    {
      "cell_type": "code",
      "source": [
        "#Solución:)\n",
        "import numpy as np\n",
        "\n",
        "array=np.array([1,2,3,4,5,6,7,8,9,10])\n",
        "\n",
        "matrizReorganizar=array.reshape((2,5))\n",
        "\n",
        "print(\"Convertido a matriz 2x5\")\n",
        "print(matrizReorganizar)"
      ],
      "metadata": {
        "id": "GkjKd3SLh6Sf",
        "colab": {
          "base_uri": "https://localhost:8080/"
        },
        "outputId": "ebfc4634-e0e3-4860-f10e-bbb7ff89b4ea"
      },
      "execution_count": null,
      "outputs": [
        {
          "output_type": "stream",
          "name": "stdout",
          "text": [
            "Convertido a matriz 2x5\n",
            "[[ 1  2  3  4  5]\n",
            " [ 6  7  8  9 10]]\n"
          ]
        }
      ]
    },
    {
      "cell_type": "markdown",
      "source": [
        "### **Ejercicio extra - Encontrar el *k*-ésimo elemento más pequeño en un array**\n",
        "Dado arr = np.array([9, 3, 6, 2, 1, 7]), encuentra el 3er elemento más pequeño sin ordenar el array completo.\n",
        "\n",
        "**Pista solución 1**: Se puede hacer con un método de Numpy\n",
        "\n",
        "**Pista solución 2**: El código se hace más complicado, pero se puede resolver con ciclos iterativos."
      ],
      "metadata": {
        "id": "MpTGrPV5iE1Z"
      }
    },
    {
      "cell_type": "code",
      "source": [
        "#Solucion :o\n",
        "import numpy as np\n",
        "arr = np.array([9, 3, 6, 2, 1, 7])\n",
        "posicion = 3\n",
        "\n",
        "numMenor = np.partition(arr, posicion-1)\n",
        "print(\"El 3er numero más pequeño es\", numMenor)"
      ],
      "metadata": {
        "id": "OYaMOW-jiLlX",
        "colab": {
          "base_uri": "https://localhost:8080/"
        },
        "outputId": "758d7e68-5add-472d-845e-29196a5d1eef"
      },
      "execution_count": 19,
      "outputs": [
        {
          "output_type": "stream",
          "name": "stdout",
          "text": [
            "El 3er numero más pequeño es [1 2 3 6 7 9]\n"
          ]
        }
      ]
    },
    {
      "cell_type": "markdown",
      "source": [
        "## **Ejercicios aplicados**"
      ],
      "metadata": {
        "id": "Unyrp8HOCtMh"
      }
    },
    {
      "cell_type": "markdown",
      "source": [
        "### **Ejercicio: Cálculo de ROI (Retorno de Inversión)**\n",
        "Dadas las inversiones ([1000, 1500, 2000]) y sus retornos ([1200, 1650, 1800]), calcula el ROI porcentual para cada caso.\n",
        "\n",
        "*(Fórmula: ROI = (retorno - inversión) / inversión * 100)*"
      ],
      "metadata": {
        "id": "K1CPCb12GeCz"
      }
    },
    {
      "cell_type": "code",
      "source": [
        "# Solucion del ROIROIROIROIORIORI\n",
        "inversion= np.array([1000,1500,2000])\n",
        "retorno= np.array([1200,1650,1800])\n",
        "\n",
        "roi= ((retorno - inversion) / inversion * 100)\n",
        "\n",
        "print(\"El calculo de ROI es:\", roi)"
      ],
      "metadata": {
        "id": "6Eo-aN8bCwg1",
        "colab": {
          "base_uri": "https://localhost:8080/"
        },
        "outputId": "ad359307-f02e-492a-f41e-e749ce4474df"
      },
      "execution_count": 9,
      "outputs": [
        {
          "output_type": "stream",
          "name": "stdout",
          "text": [
            "El calculo de ROI es: [ 20.  10. -10.]\n"
          ]
        }
      ]
    },
    {
      "cell_type": "markdown",
      "source": [
        "### **Ejercicio: Normalización de Datos**\n",
        "Tienes un dataset de precios de productos (en USD): [250, 320, 150, 500, 210]. Normaliza los valores al rango [0, 1] para compararlos en una escala común.\n",
        "\n",
        "**Formulita de la normalización**: (x - min) / (max - min): Para una escala valores entre 0 y 1."
      ],
      "metadata": {
        "id": "3CfyZVv4GksC"
      }
    },
    {
      "cell_type": "code",
      "source": [
        "import numpy as np\n",
        "\n",
        "dataset= np.array([250,320,150,500,210])\n",
        "\n",
        "minimo=np.min(dataset)\n",
        "maximo=np.max(dataset)\n",
        "\n",
        "normalizado= (dataset - minimo) / (maximo - minimo)\n",
        "\n",
        "print(\"El valor normalizado es\", normalizado)"
      ],
      "metadata": {
        "id": "afTic4_JGxAy",
        "colab": {
          "base_uri": "https://localhost:8080/"
        },
        "outputId": "817e9304-d4eb-435a-b69a-943f0464f1b3"
      },
      "execution_count": 11,
      "outputs": [
        {
          "output_type": "stream",
          "name": "stdout",
          "text": [
            "El valor normalizado es [0.28571429 0.48571429 0.         1.         0.17142857]\n"
          ]
        }
      ]
    },
    {
      "cell_type": "markdown",
      "source": [
        "### **Ejercicio: Filtrado de Datos**\n",
        "En un array de ventas diarias ([1200, 0, 750, 2400, 0, 1800]), reemplaza los ceros (días sin ventas) por el promedio de los días con ventas."
      ],
      "metadata": {
        "id": "Px7Pdn7xHBAR"
      }
    },
    {
      "cell_type": "code",
      "source": [
        "import numpy as np\n",
        "\n",
        "ventasDiarias= np.array([1200,0,750,2400,0,1800])\n",
        "\n",
        "dias_Ventas=ventasDiarias[ventasDiarias !=0]\n",
        "\n",
        "promedio = np.mean(dias_Ventas)\n",
        "\n",
        "ventasDiarias[ventasDiarias == 0] = promedio\n",
        "\n",
        "print(\"Los dias con ventas son\", ventasDiarias)"
      ],
      "metadata": {
        "id": "rqwubxX-HFBX",
        "colab": {
          "base_uri": "https://localhost:8080/"
        },
        "outputId": "e07cf1ad-4ec3-4063-9b07-f2e4e98f43e8"
      },
      "execution_count": 13,
      "outputs": [
        {
          "output_type": "stream",
          "name": "stdout",
          "text": [
            "Los dias con ventas son [1200 1537  750 2400 1537 1800]\n"
          ]
        }
      ]
    },
    {
      "cell_type": "markdown",
      "source": [
        "### **Ejercicio - Análisis de Presión Arterial**\n",
        "Tenemos un dataset de mediciones de presión arterial sistólica (mmHg) de 10 pacientes:\n",
        "[120, 135, 140, 118, 150, 130, 160, 125, 142, 128].\n",
        "\n",
        "Calculen:\n",
        "- Media y desviación estándar.\n",
        "- Identifiquen valores fuera del rango normal (90–140 mmHg)."
      ],
      "metadata": {
        "id": "dKK2wBEEdqzt"
      }
    },
    {
      "cell_type": "code",
      "source": [
        "import numpy as np\n",
        "\n",
        "presionArterial= np.array([120,135,140,118,150,130,160,125,142,128])\n",
        "\n",
        "media=np.mean(presionArterial)\n",
        "desviacion=np.std(presionArterial)\n",
        "\n",
        "print(\"La media es\", media)\n",
        "print(\"La desviación es\", desviacion)"
      ],
      "metadata": {
        "id": "RkYj4KJud0uu",
        "colab": {
          "base_uri": "https://localhost:8080/"
        },
        "outputId": "bf34f86e-0b05-4794-d108-845db8ebe76d"
      },
      "execution_count": 14,
      "outputs": [
        {
          "output_type": "stream",
          "name": "stdout",
          "text": [
            "La media es 134.8\n",
            "La desviación es 12.69488085804668\n"
          ]
        }
      ]
    },
    {
      "cell_type": "markdown",
      "source": [
        "### **Ejercicio - Cálculo del PIB per Cápita**\n",
        "Dados el PIB (en millones de USD) [500, 320, 700, 450] y la población (en millones) [10, 8, 12, 9] de 4 países, calculen el PIB per cápita y determinen el país con el mayor valor."
      ],
      "metadata": {
        "id": "ltzE201veNyz"
      }
    },
    {
      "cell_type": "code",
      "source": [
        "import numpy as np\n",
        "\n",
        "PIB=np.array([500, 320, 700, 450])\n",
        "poblacion= np.array([10, 8, 12, 9])\n",
        "\n",
        "PIBperCapita= PIB/poblacion\n",
        "\n",
        "mayorPIB=np.argmax(PIBperCapita)\n",
        "\n",
        "print(\"El PIB per cápita es\", PIBperCapita)\n",
        "print(\"El pais con mayor PIB per capita es\", mayorPIB )"
      ],
      "metadata": {
        "id": "TMl-OWMpeOcP",
        "colab": {
          "base_uri": "https://localhost:8080/"
        },
        "outputId": "74e790f6-c75e-4150-9e6b-e8653d186ed6"
      },
      "execution_count": 22,
      "outputs": [
        {
          "output_type": "stream",
          "name": "stdout",
          "text": [
            "El PIB per cápita es [50.         40.         58.33333333 50.        ]\n",
            "El pais con mayor PIB per capita es 2\n"
          ]
        }
      ]
    },
    {
      "cell_type": "markdown",
      "source": [
        "### **Ejercicio - Sistema de Drops (Probabilidades)**\n",
        "En un videojuego RPG, los enemigos al ser vencidos, pueden dropear (soltar):\n",
        "- 0 = Nada (50%).\n",
        "- 1 = Poción (30%).\n",
        "- 2 = Arma (15%).\n",
        "- 3 = Artefacto (5%).\n",
        "\n",
        "Simula 100 drops y cuenta cuántos artefactos se obtuvieron.\n",
        "\n",
        "*Ejemplo de salida*:\n",
        "\n",
        "```\n",
        "Artifactos obtenidos: 3\n",
        "```\n",
        "\n"
      ],
      "metadata": {
        "id": "7AP-dS9HgAO9"
      }
    },
    {
      "cell_type": "code",
      "source": [
        "import numpy as np\n",
        "\n",
        "probabilidades = [0.5, 0.3, 0.15, 0.05]\n",
        "\n",
        "dropeos = np.random.choice([0,1,2,3], size=100, p=probabilidades)\n",
        "\n",
        "numArtefactos = np.count_nonzero(dropeos == 3)\n",
        "\n",
        "print(\"Artefactos obtenidos:\", numArtefactos)\n",
        "\n"
      ],
      "metadata": {
        "id": "828OGOwUgPBV",
        "colab": {
          "base_uri": "https://localhost:8080/"
        },
        "outputId": "9f362a6b-8a52-4fa4-bd88-fc6315e5bd32"
      },
      "execution_count": 35,
      "outputs": [
        {
          "output_type": "stream",
          "name": "stdout",
          "text": [
            "Artefactos obtenidos: 3\n"
          ]
        }
      ]
    }
  ]
}